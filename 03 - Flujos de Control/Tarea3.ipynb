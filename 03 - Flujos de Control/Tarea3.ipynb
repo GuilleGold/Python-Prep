{
 "cells": [
  {
   "cell_type": "markdown",
   "metadata": {},
   "source": [
    "1) Crear una variable que contenga un elemento del conjunto de números enteros y luego imprimir por pantalla si es mayor o menor a cero\n",
    "\n"
   ]
  },
  {
   "cell_type": "code",
   "execution_count": 3,
   "metadata": {},
   "outputs": [
    {
     "name": "stdout",
     "output_type": "stream",
     "text": [
      "el numero es igual a cero\n"
     ]
    }
   ],
   "source": [
    "m=0\n",
    "if(m>0):\n",
    "    print('el numero es mayor a cero')\n",
    "elif(m<0):\n",
    "    print('el número es menor a cero')\n",
    "else:\n",
    "    print('el numero es igual a cero')"
   ]
  },
  {
   "cell_type": "markdown",
   "metadata": {},
   "source": [
    "2) Crear **dos** variables y un condicional que informe si son del mismo *tipo* de dato\n",
    "\n"
   ]
  },
  {
   "cell_type": "code",
   "execution_count": 4,
   "metadata": {},
   "outputs": [
    {
     "name": "stdout",
     "output_type": "stream",
     "text": [
      "Son variables diferentes\n"
     ]
    }
   ],
   "source": [
    "c1=3\n",
    "c2=\"3\"\n",
    "if(c1==c2):\n",
    "    print('Son variables del mismo tipo')\n",
    "else:\n",
    "    print('Son variables diferentes')"
   ]
  },
  {
   "cell_type": "markdown",
   "metadata": {},
   "source": [
    "\n",
    "3) Para los valores enteros del 1 al 20, imprimir por pantalla si es par o impar\n",
    "\n"
   ]
  },
  {
   "cell_type": "code",
   "execution_count": 20,
   "metadata": {},
   "outputs": [
    {
     "name": "stdout",
     "output_type": "stream",
     "text": [
      "Es número 1 es impar\n",
      "El número 2 es par\n",
      "Es número 3 es impar\n",
      "El número 4 es par\n",
      "Es número 5 es impar\n",
      "El número 6 es par\n",
      "Es número 7 es impar\n",
      "El número 8 es par\n",
      "Es número 9 es impar\n",
      "El número 10 es par\n",
      "Es número 11 es impar\n",
      "El número 12 es par\n",
      "Es número 13 es impar\n",
      "El número 14 es par\n",
      "Es número 15 es impar\n",
      "El número 16 es par\n",
      "Es número 17 es impar\n",
      "El número 18 es par\n",
      "Es número 19 es impar\n",
      "El número 20 es par\n"
     ]
    }
   ],
   "source": [
    "\n",
    "for m in range (1,21):\n",
    "    if m%2==0:\n",
    "        print(\"El número\",m, \"es par\")\n",
    "    else:\n",
    "        print('Es número',m, 'es impar')"
   ]
  },
  {
   "cell_type": "markdown",
   "metadata": {},
   "source": [
    "4) En un ciclo for mostrar para los valores entre 0 y 5 el resultado de elevarlo a la potencia igual a 3\n"
   ]
  },
  {
   "cell_type": "code",
   "execution_count": 21,
   "metadata": {},
   "outputs": [
    {
     "name": "stdout",
     "output_type": "stream",
     "text": [
      "el valor de 0 elevado al cubo es  0\n",
      "el valor de 1 elevado al cubo es  1\n",
      "el valor de 2 elevado al cubo es  8\n",
      "el valor de 3 elevado al cubo es  27\n",
      "el valor de 4 elevado al cubo es  64\n",
      "el valor de 5 elevado al cubo es  125\n"
     ]
    }
   ],
   "source": [
    "for i in range(0,6):\n",
    "        print('el valor de', i, 'elevado al cubo es ',i**3)"
   ]
  },
  {
   "cell_type": "markdown",
   "metadata": {},
   "source": [
    "\n",
    "5) Crear una variable que contenga un número entero y realizar un ciclo for la misma cantidad de ciclos\n"
   ]
  },
  {
   "cell_type": "code",
   "execution_count": 29,
   "metadata": {},
   "outputs": [
    {
     "name": "stdout",
     "output_type": "stream",
     "text": [
      "0\n",
      "1\n",
      "2\n",
      "3\n",
      "4\n",
      "5\n",
      "6\n",
      "7\n",
      "8\n",
      "9\n"
     ]
    }
   ],
   "source": [
    "x=10\n",
    "for i in range(0,x):\n",
    "    pass\n",
    "    print(i)"
   ]
  },
  {
   "cell_type": "markdown",
   "metadata": {},
   "source": [
    "\n",
    "#6) Utilizar un ciclo while para realizar el factorial de un número guardado en una variable, sólo# si la variable contiene un número entero mayor a 0\n",
    "\n"
   ]
  },
  {
   "cell_type": "code",
   "execution_count": null,
   "metadata": {},
   "outputs": [],
   "source": []
  },
  {
   "cell_type": "code",
   "execution_count": null,
   "metadata": {},
   "outputs": [],
   "source": [
    "5\n",
    "5*4*3*2*1"
   ]
  },
  {
   "cell_type": "code",
   "execution_count": 34,
   "metadata": {},
   "outputs": [
    {
     "ename": "SyntaxError",
     "evalue": "invalid syntax (1689612079.py, line 8)",
     "output_type": "error",
     "traceback": [
      "\u001b[0;36m  Cell \u001b[0;32mIn [34], line 8\u001b[0;36m\u001b[0m\n\u001b[0;31m    z=r*\u001b[0m\n\u001b[0m        ^\u001b[0m\n\u001b[0;31mSyntaxError\u001b[0m\u001b[0;31m:\u001b[0m invalid syntax\n"
     ]
    }
   ],
   "source": [
    "x=3 #                   C1= 2\n",
    "y=1                    #F1=2\n",
    "if(type(x)==int):#3/\n",
    "    if (x>0): #3/\n",
    "         z=x #3/3                                     /1 /2/3             CC1=2 \n",
    "         while(x>0):#3/2\n",
    "                 x-=1#3/2\n",
    "                 z=r*\n",
    "         print('El factorial de',z,'es',y)\n",
    "    else:\n",
    "        print('Es un numero negativo')\n",
    "else:\n",
    "    print('Es un numero negativo')"
   ]
  },
  {
   "cell_type": "markdown",
   "metadata": {},
   "source": []
  },
  {
   "cell_type": "markdown",
   "metadata": {},
   "source": [
    "7) Crear un ciclo for dentro de un ciclo while\n",
    "\n"
   ]
  },
  {
   "cell_type": "code",
   "execution_count": 9,
   "metadata": {},
   "outputs": [
    {
     "name": "stdout",
     "output_type": "stream",
     "text": [
      "0 # de veces entradas al ciclo while\n",
      "1 # de veces entradas a for\n",
      "0 # de veces entradas al ciclo while\n",
      "2 # de veces entradas a for\n",
      "1 # de veces entradas al ciclo while\n",
      "2 # de veces entradas a for\n",
      "0 # de veces entradas al ciclo while\n",
      "3 # de veces entradas a for\n",
      "1 # de veces entradas al ciclo while\n",
      "3 # de veces entradas a for\n",
      "2 # de veces entradas al ciclo while\n",
      "3 # de veces entradas a for\n"
     ]
    }
   ],
   "source": [
    "x=0                        # x=1\n",
    "while x<3:#while x= 0 for=0           x=1\n",
    "    x+=1  #whilex+1=1  for=0           x=2   \n",
    "    for i in range(0,x):#while 0 for=1  x=\n",
    "#  avanza hacia \n",
    "# la derecha, aumenta hasta lelgar a la variable                     #                     x=2\n",
    "        print(str(i),'# de veces entradas al ciclo while')#vuelta 1\n",
    "        print(str(x),'# de veces entradas a for')"
   ]
  },
  {
   "cell_type": "markdown",
   "metadata": {},
   "source": [
    "8) Crear un ciclo while dentro de un ciclo for\n",
    "\n"
   ]
  },
  {
   "cell_type": "code",
   "execution_count": 12,
   "metadata": {},
   "outputs": [],
   "source": [
    "x=0\n",
    "for i in range(1,x):\n",
    "    while x<6:\n",
    "        x-=1\n",
    "        print(\"las veces quye entro al while \"+ str(x) )\n",
    "        print(\"# de veces que entro a for \"+str(x))\n",
    "\n"
   ]
  },
  {
   "cell_type": "markdown",
   "metadata": {},
   "source": [
    "9) Imprimir los números primos existentes entre 0 y 30\n"
   ]
  },
  {
   "cell_type": "markdown",
   "metadata": {},
   "source": [
    "\n",
    "10) ¿Se puede mejorar el proceso del punto 9? Utilizar las sentencias break y/ó continue para tal fin\n",
    "\n"
   ]
  },
  {
   "cell_type": "markdown",
   "metadata": {},
   "source": [
    "11) En los puntos 9 y 10, se diseño un código que encuentra números primos y además se lo optimizó. ¿Es posible saber en qué medida se optimizó?\n"
   ]
  },
  {
   "cell_type": "markdown",
   "metadata": {},
   "source": [
    "\n",
    "12) Si la cantidad de números que se evalúa es mayor a treinta, esa optimización crece?\n"
   ]
  },
  {
   "cell_type": "markdown",
   "metadata": {},
   "source": [
    "\n",
    "13) Aplicando continue, armar un ciclo while que solo imprima los valores divisibles por 12, dentro del rango de números de 100 a 300\n"
   ]
  },
  {
   "cell_type": "markdown",
   "metadata": {},
   "source": [
    "\n",
    "14) Utilizar la función **input()** que permite hacer ingresos por teclado, para encontrar números primos y dar la opción al usario de buscar el siguiente\n"
   ]
  },
  {
   "cell_type": "markdown",
   "metadata": {},
   "source": [
    "\n",
    "15) Crear un ciclo while que encuentre dentro del rango de 100 a 300 el primer número divisible por 3 y además múltiplo de 6"
   ]
  }
 ],
 "metadata": {
  "kernelspec": {
   "display_name": "Python 3.10.6 64-bit",
   "language": "python",
   "name": "python3"
  },
  "language_info": {
   "codemirror_mode": {
    "name": "ipython",
    "version": 3
   },
   "file_extension": ".py",
   "mimetype": "text/x-python",
   "name": "python",
   "nbconvert_exporter": "python",
   "pygments_lexer": "ipython3",
   "version": "3.10.6"
  },
  "orig_nbformat": 4,
  "vscode": {
   "interpreter": {
    "hash": "916dbcbb3f70747c44a77c7bcd40155683ae19c65e1c03b4aa3499c5328201f1"
   }
  }
 },
 "nbformat": 4,
 "nbformat_minor": 2
}
